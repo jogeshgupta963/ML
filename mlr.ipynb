{
 "cells": [
  {
   "cell_type": "code",
   "execution_count": 1,
   "metadata": {},
   "outputs": [],
   "source": [
    "import pandas as pd\n",
    "import numpy as np"
   ]
  },
  {
   "cell_type": "code",
   "execution_count": 2,
   "metadata": {},
   "outputs": [
    {
     "name": "stdout",
     "output_type": "stream",
     "text": [
      "Coefficients: [[-4.94559512e+03]\n",
      " [-2.68916833e-01]\n",
      " [-4.25908899e-03]\n",
      " [ 1.16302048e+00]\n",
      " [ 2.37767190e+02]\n",
      " [-7.80545257e+00]]\n"
     ]
    },
    {
     "name": "stderr",
     "output_type": "stream",
     "text": [
      "/tmp/ipykernel_5500/3896414821.py:8: UserWarning: Pandas doesn't allow columns to be created via a new attribute name - see https://pandas.pydata.org/pandas-docs/stable/indexing.html#attribute-access\n",
      "  data.coefficients = np.linalg.inv(X.transpose().dot(X)).dot(X.transpose()).dot(Y)\n"
     ]
    }
   ],
   "source": [
    "data = pd.read_csv('./mlr.csv')\n",
    "X = data.iloc[:, 2:-1] # columns with index 2 to 6 as features in X\n",
    "Y = data.iloc[:, -1] # the last column i.e. 'price per unit area' as target\n",
    "\n",
    "one = np.ones((len(X),1))\n",
    "X = np.append(one, X, axis=1) # adding ones to X\n",
    "Y = np.array(Y).reshape((len(Y),1)) # reshape Y to a column vector\n",
    "data.coefficients = np.linalg.inv(X.transpose().dot(X)).dot(X.transpose()).dot(Y)\n",
    "print(f\"Coefficients: {data.coefficients}\")"
   ]
  }
 ],
 "metadata": {
  "kernelspec": {
   "display_name": "Python 3.10.8 64-bit",
   "language": "python",
   "name": "python3"
  },
  "language_info": {
   "codemirror_mode": {
    "name": "ipython",
    "version": 3
   },
   "file_extension": ".py",
   "mimetype": "text/x-python",
   "name": "python",
   "nbconvert_exporter": "python",
   "pygments_lexer": "ipython3",
   "version": "3.10.8"
  },
  "orig_nbformat": 4,
  "vscode": {
   "interpreter": {
    "hash": "e7370f93d1d0cde622a1f8e1c04877d8463912d04d973331ad4851f04de6915a"
   }
  }
 },
 "nbformat": 4,
 "nbformat_minor": 2
}
