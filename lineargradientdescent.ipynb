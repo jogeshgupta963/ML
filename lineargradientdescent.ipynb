{
 "cells": [
  {
   "cell_type": "code",
   "execution_count": null,
   "metadata": {},
   "outputs": [
    {
     "ename": "",
     "evalue": "",
     "output_type": "error",
     "traceback": [
      "\u001b[1;31mRunning cells with 'Python 3.10.8 64-bit' requires ipykernel package.\n",
      "\u001b[1;31mRun the following command to install 'ipykernel' into the Python environment. \n",
      "\u001b[1;31mCommand: '/bin/python -m pip install ipykernel -U --user --force-reinstall'"
     ]
    }
   ],
   "source": [
    "import pandas as pd\n",
    "import matplotlib.pyplot as plt    \n",
    "data=pd.read_csv(\"regressiondataset.csv\")\n",
    "x=data.x/max(data.x)\n",
    "y=data.y/max(data.y)\n",
    "b0=0\n",
    "b1=0\n",
    "n=len(x)\n",
    "alpha=0.01\n",
    "a=int(input(\"please enter number of iterations\"))\n",
    "while(a):\n",
    "  temp0=b0-alpha/n*((b0+b1*x-y)).sum()\n",
    "  temp1=b1-alpha/n*((b0+b1*x-y)*(x)).sum()\n",
    "  b0=temp0\n",
    "  b1=temp1\n",
    "  a=a-1\n",
    "  print(\"the value of b0\",b0)\n",
    "  print(\"the value of b1\",b1)"
   ]
  }
 ],
 "metadata": {
  "kernelspec": {
   "display_name": "Python 3.10.8 64-bit",
   "language": "python",
   "name": "python3"
  },
  "language_info": {
   "codemirror_mode": {
    "name": "ipython",
    "version": 3
   },
   "file_extension": ".py",
   "mimetype": "text/x-python",
   "name": "python",
   "nbconvert_exporter": "python",
   "pygments_lexer": "ipython3",
   "version": "3.10.8"
  },
  "orig_nbformat": 4,
  "vscode": {
   "interpreter": {
    "hash": "e7370f93d1d0cde622a1f8e1c04877d8463912d04d973331ad4851f04de6915a"
   }
  }
 },
 "nbformat": 4,
 "nbformat_minor": 2
}
