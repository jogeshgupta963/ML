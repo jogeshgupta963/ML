{
 "cells": [
  {
   "cell_type": "code",
   "execution_count": null,
   "metadata": {},
   "outputs": [],
   "source": [
    "import numpy as np\n",
    "import pandas as pd"
   ]
  },
  {
   "cell_type": "code",
   "execution_count": null,
   "metadata": {},
   "outputs": [],
   "source": [
    "data = data = np.array([\n",
    "      [   1,   2,  -1,   4,  10],\n",
    "      [   3,  -3,  -3,  12, -15],\n",
    "      [   2,   1,  -2,   4,   5],\n",
    "      [   5,   1,  -5,  10,   5],\n",
    "      [   2,   3,  -3,   5,  12],\n",
    "      [   4,   0,  -3,  16,   2],\n",
    "  ])"
   ]
  },
  {
   "cell_type": "code",
   "execution_count": null,
   "metadata": {},
   "outputs": [],
   "source": [
    "standardized_data = (data - data.mean(axis=0)) / data.std(axis=0)"
   ]
  },
  {
   "cell_type": "code",
   "execution_count": null,
   "metadata": {},
   "outputs": [],
   "source": [
    "covariance_matrix = np.cov(standardized_data, ddof=0, rowvar=False)\n",
    "\n",
    "eigenvalues, eigenvectors = np.linalg.eig(covariance_matrix)\n",
    "\n",
    "order_of_importance = np.argsort(eigenvalues)[::-1]\n",
    "\n",
    "sorted_eigenvalues = eigenvalues[order_of_importance]\n",
    "sorted_eigenvectors = eigenvectors[:,order_of_importance]\n",
    "\n",
    "explained_variance = sorted_eigenvalues / np.sum(sorted_eigenvalues)\n",
    "\n",
    "k = 2 # No. of Principal Components\n",
    "reduced_data = np.matmul(standardized_data, sorted_eigenvectors[:,:k])\n",
    "print(reduced_data)"
   ]
  }
 ],
 "metadata": {
  "language_info": {
   "name": "python"
  },
  "orig_nbformat": 4
 },
 "nbformat": 4,
 "nbformat_minor": 2
}
